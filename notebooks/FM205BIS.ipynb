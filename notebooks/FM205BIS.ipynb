{
 "cells": [
  {
   "cell_type": "code",
   "execution_count": null,
   "id": "b1a35556",
   "metadata": {},
   "outputs": [],
   "source": [
    "import pandas as pd\n",
    "import numpy as np\n",
    "import seaborn as sns\n",
    "import matplotlib.pyplot as plt\n",
    "from rnacappredictor.predict_cap import generate_fingerprint_mixes"
   ]
  },
  {
   "cell_type": "code",
   "execution_count": null,
   "id": "d88d3c97",
   "metadata": {},
   "outputs": [],
   "source": [
    "df = pd.concat([\n",
    "    pd.read_csv(\"../data/FM205BIS/no_sample_id/20250705_1815_MD-101425_FBC20638_41e6243c/fastq_pass/U1-1/fingerprints.csv\"),\n",
    "    pd.read_csv(\"../data/FM205BIS/no_sample_id/20250705_1815_MD-101425_FBC20638_41e6243c/fastq_pass/U1-11/fingerprints.csv\"),\n",
    "    pd.read_csv(\"../data/FM205BIS/no_sample_id/20250705_1815_MD-101425_FBC20638_41e6243c/fastq_pass/U1-138P/fingerprints.csv\"),\n",
    "    pd.read_csv(\"../data/FM205BIS/no_sample_id/20250705_1815_MD-101425_FBC20638_41e6243c/fastq_pass/U1-148P/fingerprints.csv\"),\n",
    "    pd.read_csv(\"../data/FM205BIS/no_sample_id/20250705_1815_MD-101425_FBC20638_41e6243c/fastq_pass/U6/fingerprints.csv\")\n",
    "])\n",
    "df['barcode'] = df['barcode'].apply(lambda x: int(x.replace('barcode', '')))\n",
    "\n",
    "barcode_isoform_to_rt = {\n",
    "    (1, \"U1-1\"): \"INDURO\",\n",
    "    (6, \"U1-1\"): \"ProtoScript\",\n",
    "    (11, \"U1-1\"): \"Marathon\",\n",
    "    (16, \"U1-1\"): \"GoScript\",\n",
    "    (21, \"U1-1\"): \"EpiScript\",\n",
    "    (4, \"U1-11\"): \"INDURO\",\n",
    "    (9, \"U1-11\"): \"ProtoScript\",\n",
    "    (14, \"U1-11\"): \"Marathon\",\n",
    "    (19, \"U1-11\"): \"GoScript\",\n",
    "    (24, \"U1-11\"): \"EpiScript\",\n",
    "    (2, \"U1-138P\"): \"INDURO\",\n",
    "    (7, \"U1-138P\"): \"ProtoScript\",\n",
    "    (12, \"U1-138P\"): \"Marathon\",\n",
    "    (17, \"U1-138P\"): \"GoScript\",\n",
    "    (22, \"U1-138P\"): \"EpiScript\",\n",
    "    (3, \"U1-148P\"): \"INDURO\",\n",
    "    (8, \"U1-148P\"): \"ProtoScript\",\n",
    "    (13, \"U1-148P\"): \"Marathon\",\n",
    "    (18, \"U1-148P\"): \"GoScript\",\n",
    "    (23, \"U1-148P\"): \"EpiScript\",\n",
    "    (5, \"U6\"): \"INDURO\",\n",
    "    (10, \"U6\"): \"ProtoScript\",\n",
    "    (15, \"U6\"): \"Marathon\",\n",
    "    (20, \"U6\"): \"GoScript\",\n",
    "    (1, \"U6\"): \"EpiScript\",\n",
    "}\n",
    "\n",
    "df['RT'] = df.apply(lambda row: barcode_isoform_to_rt[(row['barcode'], row['isoform'])], axis=1)\n",
    "df"
   ]
  },
  {
   "cell_type": "code",
   "execution_count": null,
   "id": "2d6cb8e9",
   "metadata": {},
   "outputs": [],
   "source": [
    "df.to_csv('out_data/FM205_fingerprints.csv', index=False)"
   ]
  },
  {
   "cell_type": "code",
   "execution_count": null,
   "id": "628ad036",
   "metadata": {},
   "outputs": [],
   "source": [
    "# Pivot the data to create a matrix of isoform x barcode\n",
    "pivot_df = df.pivot(index='isoform', columns='RT', values='num_reads_ACGT')\n",
    "\n",
    "# Create heatmap\n",
    "plt.figure(figsize=(6, 5))\n",
    "sns.heatmap(pivot_df, cmap='viridis', annot=True, fmt='.0f', cbar_kws={'label': 'Number of reads'})\n",
    "plt.title('Number of aligned reads per isoform and RT in FM205')\n",
    "plt.xlabel('Barcode')\n",
    "plt.ylabel('Isoform')\n",
    "plt.show()"
   ]
  },
  {
   "cell_type": "code",
   "execution_count": null,
   "id": "7cbe5618",
   "metadata": {},
   "outputs": [],
   "source": [
    "from rnacappredictor.predict_cap import predict_cap\n",
    "\n",
    "df_test = df.copy()\n",
    "df_test['cap'] = 'Unknown'\n",
    "df_test['experiment'] = 'FM205_' + df_test['isoform']\n",
    "\n",
    "df_train = pd.read_csv('../data/FM179-FM181_fingerprints.csv')\n",
    "df_res = predict_cap(df_train, df_test, show_true_cap=True)\n",
    "df_res"
   ]
  },
  {
   "cell_type": "code",
   "execution_count": null,
   "id": "6d696b2f",
   "metadata": {},
   "outputs": [],
   "source": [
    "df_res.to_csv('out_data/FM205_res.csv', index=False)"
   ]
  },
  {
   "cell_type": "code",
   "execution_count": null,
   "id": "025a3cec",
   "metadata": {},
   "outputs": [],
   "source": [
    "nucleotide_cols = ['A%', 'C%', 'G%', 'T%']\n",
    "colors = {'A%': 'green', 'C%': 'blue', 'G%': 'orange', 'T%': 'red'}\n",
    "\n",
    "# Get number of experiments and caps for subplot grid\n",
    "experiments = df_test['experiment'].unique()\n",
    "n_rows = 1\n",
    "n_cols = len(experiments)\n",
    "\n",
    "# Create figure with subplots\n",
    "fig, axes = plt.subplots(n_rows, n_cols, figsize=(n_cols*3, n_rows*3.3))\n",
    "fig.tight_layout(pad=5.0)\n",
    "\n",
    "for i, experiment in enumerate(experiments):\n",
    "    df_experiment = df_test[df_test['experiment'] == experiment]\n",
    "    \n",
    "    subset = df_experiment.copy()\n",
    "    subset = subset[['RT'] + nucleotide_cols].set_index('RT')\n",
    "    subset = subset.reindex(sorted(subset.index))\n",
    "    \n",
    "    # Plot on appropriate subplot\n",
    "    if i == n_cols-1:  # Rightmost plot\n",
    "        ax = subset.plot(kind='bar', stacked=True, ax=axes[i],\n",
    "                       color=colors, legend=True)\n",
    "        # Move legend outside with more space\n",
    "        legend = axes[i].legend(title='Nucleotide', bbox_to_anchor=(1.15, 1))\n",
    "        # Remove _INSDEL suffix from legend labels\n",
    "        for text in legend.get_texts():\n",
    "            text.set_text(text.get_text().replace('_INSDEL', ''))\n",
    "    else:\n",
    "        subset.plot(kind='bar', stacked=True, ax=axes[i],\n",
    "                   color=colors, legend=False)\n",
    "    \n",
    "    axes[i].set_title(f\"{experiment}\")\n",
    "    axes[i].set_ylabel('%')\n",
    "    axes[i].set_ylim(0, 1.0)\n",
    "    \n",
    "    # Rotate x-axis labels\n",
    "    axes[i].tick_params(axis='x', rotation=45)\n",
    "    axes[i].set_xlabel('')\n",
    "\n",
    "plt.show()"
   ]
  },
  {
   "cell_type": "markdown",
   "id": "1909acf4",
   "metadata": {},
   "source": [
    "## Deconvolution"
   ]
  },
  {
   "cell_type": "code",
   "execution_count": null,
   "id": "fe06032b",
   "metadata": {},
   "outputs": [],
   "source": [
    "df_train = df_train[df_train['experiment'] == 'FM180 + FM181']\n",
    "df_train_mixes = generate_fingerprint_mixes(df_train)\n",
    "df_train_mixes"
   ]
  },
  {
   "cell_type": "code",
   "execution_count": null,
   "id": "a9ffe433",
   "metadata": {},
   "outputs": [],
   "source": [
    "df_pred_mixes = predict_cap(df_train_mixes, df_test, include_insdel=False, print_top_k=10)\n",
    "df_pred_mixes"
   ]
  },
  {
   "cell_type": "code",
   "execution_count": null,
   "id": "82f41813",
   "metadata": {},
   "outputs": [],
   "source": [
    "# Get number of predictions by counting prediction_X columns\n",
    "num_preds = len([col for col in df_pred_mixes.columns if col.startswith('prediction_')])\n",
    "\n",
    "import re\n",
    "\n",
    "# Function to extract percentages from prediction string\n",
    "def extract_cap_percentages(pred_str):\n",
    "    nad = float(re.search(r'NAD-U1 \\(([\\d.]+)%\\)', pred_str).group(1))\n",
    "    ap4a = float(re.search(r'Ap₄A-U1 \\(([\\d.]+)%\\)', pred_str).group(1))\n",
    "    m7g = float(re.search(r'm⁷Gp₃A-U1 \\(([\\d.]+)%\\)', pred_str).group(1))\n",
    "    tmg = float(re.search(r'TMG-U1 \\(([\\d.]+)%\\)', pred_str).group(1))\n",
    "    return nad, ap4a, m7g, tmg\n",
    "\n",
    "# Process each row\n",
    "all_results = []\n",
    "for idx in df_pred_mixes.index:\n",
    "    # Get predictions and similarities for this row\n",
    "    predictions = [df_pred_mixes[f'prediction_{i}'].iloc[idx] for i in range(1, num_preds + 1)]\n",
    "    similarities = [df_pred_mixes[f'similarity_{i}'].iloc[idx] for i in range(1, num_preds + 1)]\n",
    "    \n",
    "    # Extract percentages for each cap\n",
    "    cap_percentages = [extract_cap_percentages(pred) for pred in predictions]\n",
    "    \n",
    "    # Create dataframe for this row\n",
    "    df_row = pd.DataFrame({\n",
    "        'experiment': df_pred_mixes['experiment'].iloc[idx],\n",
    "        'prediction': predictions,\n",
    "        'NAD-U1 (%)': [p[0] for p in cap_percentages],\n",
    "        'Ap₄A-U1 (%)': [p[1] for p in cap_percentages],\n",
    "        'm⁷Gp₃A-U1 (%)': [p[2] for p in cap_percentages],\n",
    "        'TMG-U1 (%)': [p[3] for p in cap_percentages],\n",
    "        'similarity': similarities\n",
    "    }).sort_values('similarity', ascending=False)\n",
    "    \n",
    "    all_results.append(df_row)\n",
    "\n",
    "# Combine all results\n",
    "df_top = pd.concat(all_results, axis=0)\n",
    "df_top = df_top.drop(columns=['prediction'])\n",
    "\n",
    "for experiment in df_top['experiment'].unique():\n",
    "    print(experiment)\n",
    "    display(df_top[df_top['experiment'] == experiment].drop(columns=['experiment']).style.hide(axis='index'))"
   ]
  },
  {
   "cell_type": "code",
   "execution_count": null,
   "id": "c3c64341",
   "metadata": {},
   "outputs": [],
   "source": [
    "df_res.to_csv('out_data/FM205_res_deconvolution.csv', index=False)"
   ]
  }
 ],
 "metadata": {
  "language_info": {
   "name": "python"
  }
 },
 "nbformat": 4,
 "nbformat_minor": 5
}
