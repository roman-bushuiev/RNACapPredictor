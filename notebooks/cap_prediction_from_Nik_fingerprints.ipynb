{
 "cells": [
  {
   "cell_type": "markdown",
   "metadata": {},
   "source": [
    "Questions:\n",
    "- Is there a difference between ProtoScript and ProtoScript II?\n",
    "- Currently, we don't use FM150 because caps have slightly different naming: `['ppp - SUBOPT', 'NAD - SUBOPT', 'Ap4A - SUBOPT', 'm7Gp3A - SUBOPT', 'TMG - SUBOPT', 'TMG - NORMAL', 'OH - NORMAL', 'ppp - TAT', 'NAD - TAT', 'Ap4A - TAT', 'm7Gp3A - TAT']`. Should we use only \"NORMAL\" caps or also the \"TAT\" caps? We shoudn't use \"SUBOPT\", right?\n",
    "- Fingerprints for FM156 are missing in all version of the fingerprint databases from Nikolas. Is it expected?"
   ]
  },
  {
   "cell_type": "code",
   "execution_count": 4,
   "metadata": {},
   "outputs": [],
   "source": [
    "import pandas as pd\n",
    "import numpy as np\n",
    "import matplotlib.pyplot as plt\n",
    "import seaborn as sns\n",
    "from sklearn.neighbors import KNeighborsClassifier"
   ]
  },
  {
   "cell_type": "markdown",
   "metadata": {},
   "source": [
    "## Pre-process fingerprints"
   ]
  },
  {
   "cell_type": "code",
   "execution_count": 9,
   "metadata": {},
   "outputs": [
    {
     "data": {
      "text/html": [
       "<div>\n",
       "<style scoped>\n",
       "    .dataframe tbody tr th:only-of-type {\n",
       "        vertical-align: middle;\n",
       "    }\n",
       "\n",
       "    .dataframe tbody tr th {\n",
       "        vertical-align: top;\n",
       "    }\n",
       "\n",
       "    .dataframe thead th {\n",
       "        text-align: right;\n",
       "    }\n",
       "</style>\n",
       "<table border=\"1\" class=\"dataframe\">\n",
       "  <thead>\n",
       "    <tr style=\"text-align: right;\">\n",
       "      <th></th>\n",
       "      <th>RT name</th>\n",
       "      <th>cap</th>\n",
       "      <th>barcode</th>\n",
       "      <th>experiment</th>\n",
       "      <th>A%</th>\n",
       "      <th>C%</th>\n",
       "      <th>G%</th>\n",
       "      <th>T%</th>\n",
       "      <th>%adj_A</th>\n",
       "      <th>%adj_C</th>\n",
       "      <th>%adj_G</th>\n",
       "      <th>%adj_T</th>\n",
       "      <th>%adj_DEL</th>\n",
       "      <th>%adj_INS</th>\n",
       "    </tr>\n",
       "  </thead>\n",
       "  <tbody>\n",
       "  </tbody>\n",
       "</table>\n",
       "</div>"
      ],
      "text/plain": [
       "Empty DataFrame\n",
       "Columns: [RT name, cap, barcode, experiment, A%, C%, G%, T%, %adj_A, %adj_C, %adj_G, %adj_T, %adj_DEL, %adj_INS]\n",
       "Index: []"
      ]
     },
     "metadata": {},
     "output_type": "display_data"
    },
    {
     "name": "stdout",
     "output_type": "stream",
     "text": [
      "RT name counts:\n"
     ]
    },
    {
     "data": {
      "text/plain": [
       "RT name\n",
       "EPISCRIPT         4\n",
       "GOSCRIPT          4\n",
       "INDURO            3\n",
       "PROTOSCRIPT II    3\n",
       "MARATHON          3\n",
       "Name: count, dtype: int64"
      ]
     },
     "metadata": {},
     "output_type": "display_data"
    },
    {
     "name": "stdout",
     "output_type": "stream",
     "text": [
      "\n",
      "Cap counts:\n"
     ]
    },
    {
     "data": {
      "text/plain": [
       "cap\n",
       "NAD       5\n",
       "AP4A      5\n",
       "M7GP3A    5\n",
       "TMG       2\n",
       "Name: count, dtype: int64"
      ]
     },
     "metadata": {},
     "output_type": "display_data"
    },
    {
     "name": "stdout",
     "output_type": "stream",
     "text": [
      "\n",
      "Total number of samples: 17\n"
     ]
    }
   ],
   "source": [
    "# Combine all fingerprint databases\n",
    "df = pd.concat([\n",
    "    pd.read_csv('../nik_flaminia_project_share/blind_testing/euclidean_distance_v2/fingerprint_database_v1.csv'),\n",
    "    pd.read_csv('../nik_flaminia_project_share/blind_testing/euclidean_distance_v2/fingerprint_database_v2.csv'),\n",
    "    pd.read_csv('../nik_flaminia_project_share/blind_testing/euclidean_distance_v2/fingerprint_database_v3.csv')\n",
    "])\n",
    "\n",
    "display(df[df['experiment'] == 138])\n",
    "\n",
    "# Choose only relevant RTs\n",
    "df['RT name'] = df['RT name'].str.upper()\n",
    "df = df[df['RT name'].isin(['INDURO', 'PROTOSCRIPT II', 'MARATHON', 'GOSCRIPT', 'EPISCRIPT'])]\n",
    "\n",
    "# Choose only relevant caps\n",
    "df['cap'] = df['cap'].str.upper()\n",
    "df['cap'] = df['cap'].replace({'M⁷GP₃A': 'M7GP3A', 'AP₄A': 'AP4A'})\n",
    "df = df[df['cap'].isin(['NAD', 'AP4A', 'M7GP3A', 'TMG'])]\n",
    "\n",
    "# Drop duplicated experiment-barcode-RT-cap combinations\n",
    "df = df.drop_duplicates(subset=['RT name', 'cap', 'barcode', 'experiment'])\n",
    "\n",
    "# Use only barcodes BP06 and BP12 from experiment FM138\n",
    "df = df[(df['experiment'] != 'FM138') | (df['barcode'].isin(['BP06', 'BP12']))]\n",
    "\n",
    "# Exclude AUA experiment FM142 for now\n",
    "df = df[df['experiment'] != 'FM142']\n",
    "\n",
    "# Use experiments FM135 and FM155 for validation and testing\n",
    "val_experiment = 'FM135'\n",
    "test_experiment = 'FM155'\n",
    "df_train = df[~df['experiment'].isin([val_experiment, test_experiment])].reset_index(drop=True)\n",
    "df_train.attrs['name'] = 'train'\n",
    "df_val = df[df['experiment'] == val_experiment].reset_index(drop=True)\n",
    "df_val.attrs['name'] = 'val (FM135)'\n",
    "df_test = df[df['experiment'] == test_experiment].reset_index(drop=True)\n",
    "df_test.attrs['name'] = 'test (FM155)'\n",
    "\n",
    "print(\"RT name counts:\")\n",
    "display(df_train['RT name'].value_counts())\n",
    "print(\"\\nCap counts:\")\n",
    "display(df_train['cap'].value_counts())\n",
    "print(\"\\nTotal number of samples:\", len(df_train))"
   ]
  },
  {
   "cell_type": "code",
   "execution_count": 14,
   "metadata": {},
   "outputs": [
    {
     "data": {
      "text/html": [
       "<div>\n",
       "<style scoped>\n",
       "    .dataframe tbody tr th:only-of-type {\n",
       "        vertical-align: middle;\n",
       "    }\n",
       "\n",
       "    .dataframe tbody tr th {\n",
       "        vertical-align: top;\n",
       "    }\n",
       "\n",
       "    .dataframe thead th {\n",
       "        text-align: right;\n",
       "    }\n",
       "</style>\n",
       "<table border=\"1\" class=\"dataframe\">\n",
       "  <thead>\n",
       "    <tr style=\"text-align: right;\">\n",
       "      <th></th>\n",
       "      <th>RT name</th>\n",
       "      <th>cap</th>\n",
       "      <th>barcode</th>\n",
       "      <th>experiment</th>\n",
       "      <th>A%</th>\n",
       "      <th>C%</th>\n",
       "      <th>G%</th>\n",
       "      <th>T%</th>\n",
       "      <th>%adj_A</th>\n",
       "      <th>%adj_C</th>\n",
       "      <th>%adj_G</th>\n",
       "      <th>%adj_T</th>\n",
       "      <th>%adj_DEL</th>\n",
       "      <th>%adj_INS</th>\n",
       "    </tr>\n",
       "  </thead>\n",
       "  <tbody>\n",
       "    <tr>\n",
       "      <th>28</th>\n",
       "      <td>INDURO</td>\n",
       "      <td>NAD</td>\n",
       "      <td>BP02</td>\n",
       "      <td>FM135</td>\n",
       "      <td>54.760581</td>\n",
       "      <td>23.976283</td>\n",
       "      <td>6.662432</td>\n",
       "      <td>14.600704</td>\n",
       "      <td>20.415655</td>\n",
       "      <td>8.938757</td>\n",
       "      <td>2.483865</td>\n",
       "      <td>5.443385</td>\n",
       "      <td>59.056190</td>\n",
       "      <td>3.662147</td>\n",
       "    </tr>\n",
       "    <tr>\n",
       "      <th>31</th>\n",
       "      <td>INDURO</td>\n",
       "      <td>AP4A</td>\n",
       "      <td>BP03</td>\n",
       "      <td>FM135</td>\n",
       "      <td>40.189637</td>\n",
       "      <td>28.270814</td>\n",
       "      <td>10.355153</td>\n",
       "      <td>21.184397</td>\n",
       "      <td>13.245251</td>\n",
       "      <td>9.317179</td>\n",
       "      <td>3.412735</td>\n",
       "      <td>6.981717</td>\n",
       "      <td>63.574189</td>\n",
       "      <td>3.468929</td>\n",
       "    </tr>\n",
       "    <tr>\n",
       "      <th>34</th>\n",
       "      <td>INDURO</td>\n",
       "      <td>M7GP3A</td>\n",
       "      <td>BP04</td>\n",
       "      <td>FM135</td>\n",
       "      <td>38.480004</td>\n",
       "      <td>32.385978</td>\n",
       "      <td>13.096155</td>\n",
       "      <td>16.037864</td>\n",
       "      <td>16.090147</td>\n",
       "      <td>13.541972</td>\n",
       "      <td>5.476066</td>\n",
       "      <td>6.706122</td>\n",
       "      <td>53.912220</td>\n",
       "      <td>4.273472</td>\n",
       "    </tr>\n",
       "    <tr>\n",
       "      <th>40</th>\n",
       "      <td>PROTOSCRIPT II</td>\n",
       "      <td>NAD</td>\n",
       "      <td>BP06</td>\n",
       "      <td>FM135</td>\n",
       "      <td>66.160271</td>\n",
       "      <td>13.605809</td>\n",
       "      <td>7.871614</td>\n",
       "      <td>12.362305</td>\n",
       "      <td>30.189659</td>\n",
       "      <td>6.208480</td>\n",
       "      <td>3.591904</td>\n",
       "      <td>5.641056</td>\n",
       "      <td>51.379216</td>\n",
       "      <td>2.989685</td>\n",
       "    </tr>\n",
       "    <tr>\n",
       "      <th>43</th>\n",
       "      <td>PROTOSCRIPT II</td>\n",
       "      <td>AP4A</td>\n",
       "      <td>BP07</td>\n",
       "      <td>FM135</td>\n",
       "      <td>32.541010</td>\n",
       "      <td>15.479555</td>\n",
       "      <td>4.579272</td>\n",
       "      <td>47.400163</td>\n",
       "      <td>19.144842</td>\n",
       "      <td>9.107081</td>\n",
       "      <td>2.694122</td>\n",
       "      <td>27.886923</td>\n",
       "      <td>37.772963</td>\n",
       "      <td>3.394070</td>\n",
       "    </tr>\n",
       "    <tr>\n",
       "      <th>46</th>\n",
       "      <td>PROTOSCRIPT II</td>\n",
       "      <td>M7GP3A</td>\n",
       "      <td>BP08</td>\n",
       "      <td>FM135</td>\n",
       "      <td>62.260210</td>\n",
       "      <td>23.037121</td>\n",
       "      <td>6.534946</td>\n",
       "      <td>8.167724</td>\n",
       "      <td>35.018809</td>\n",
       "      <td>12.957434</td>\n",
       "      <td>3.675638</td>\n",
       "      <td>4.594009</td>\n",
       "      <td>38.071422</td>\n",
       "      <td>5.682688</td>\n",
       "    </tr>\n",
       "    <tr>\n",
       "      <th>59</th>\n",
       "      <td>MARATHON</td>\n",
       "      <td>NAD</td>\n",
       "      <td>BP14</td>\n",
       "      <td>FM135</td>\n",
       "      <td>83.328016</td>\n",
       "      <td>4.747411</td>\n",
       "      <td>6.828822</td>\n",
       "      <td>5.095750</td>\n",
       "      <td>61.878450</td>\n",
       "      <td>3.525374</td>\n",
       "      <td>5.071007</td>\n",
       "      <td>3.784047</td>\n",
       "      <td>21.567146</td>\n",
       "      <td>4.173977</td>\n",
       "    </tr>\n",
       "    <tr>\n",
       "      <th>61</th>\n",
       "      <td>MARATHON</td>\n",
       "      <td>AP4A</td>\n",
       "      <td>BP15</td>\n",
       "      <td>FM135</td>\n",
       "      <td>36.729050</td>\n",
       "      <td>10.678813</td>\n",
       "      <td>9.639975</td>\n",
       "      <td>42.952162</td>\n",
       "      <td>22.564674</td>\n",
       "      <td>6.560582</td>\n",
       "      <td>5.922367</td>\n",
       "      <td>26.387874</td>\n",
       "      <td>35.581092</td>\n",
       "      <td>2.983411</td>\n",
       "    </tr>\n",
       "    <tr>\n",
       "      <th>63</th>\n",
       "      <td>MARATHON</td>\n",
       "      <td>M7GP3A</td>\n",
       "      <td>BP16</td>\n",
       "      <td>FM135</td>\n",
       "      <td>42.184185</td>\n",
       "      <td>30.560812</td>\n",
       "      <td>11.517289</td>\n",
       "      <td>15.737714</td>\n",
       "      <td>18.857260</td>\n",
       "      <td>13.661356</td>\n",
       "      <td>5.148482</td>\n",
       "      <td>7.035105</td>\n",
       "      <td>51.123387</td>\n",
       "      <td>4.174410</td>\n",
       "    </tr>\n",
       "  </tbody>\n",
       "</table>\n",
       "</div>"
      ],
      "text/plain": [
       "           RT name     cap barcode experiment         A%         C%  \\\n",
       "28          INDURO     NAD    BP02      FM135  54.760581  23.976283   \n",
       "31          INDURO    AP4A    BP03      FM135  40.189637  28.270814   \n",
       "34          INDURO  M7GP3A    BP04      FM135  38.480004  32.385978   \n",
       "40  PROTOSCRIPT II     NAD    BP06      FM135  66.160271  13.605809   \n",
       "43  PROTOSCRIPT II    AP4A    BP07      FM135  32.541010  15.479555   \n",
       "46  PROTOSCRIPT II  M7GP3A    BP08      FM135  62.260210  23.037121   \n",
       "59        MARATHON     NAD    BP14      FM135  83.328016   4.747411   \n",
       "61        MARATHON    AP4A    BP15      FM135  36.729050  10.678813   \n",
       "63        MARATHON  M7GP3A    BP16      FM135  42.184185  30.560812   \n",
       "\n",
       "           G%         T%     %adj_A     %adj_C    %adj_G     %adj_T  \\\n",
       "28   6.662432  14.600704  20.415655   8.938757  2.483865   5.443385   \n",
       "31  10.355153  21.184397  13.245251   9.317179  3.412735   6.981717   \n",
       "34  13.096155  16.037864  16.090147  13.541972  5.476066   6.706122   \n",
       "40   7.871614  12.362305  30.189659   6.208480  3.591904   5.641056   \n",
       "43   4.579272  47.400163  19.144842   9.107081  2.694122  27.886923   \n",
       "46   6.534946   8.167724  35.018809  12.957434  3.675638   4.594009   \n",
       "59   6.828822   5.095750  61.878450   3.525374  5.071007   3.784047   \n",
       "61   9.639975  42.952162  22.564674   6.560582  5.922367  26.387874   \n",
       "63  11.517289  15.737714  18.857260  13.661356  5.148482   7.035105   \n",
       "\n",
       "     %adj_DEL  %adj_INS  \n",
       "28  59.056190  3.662147  \n",
       "31  63.574189  3.468929  \n",
       "34  53.912220  4.273472  \n",
       "40  51.379216  2.989685  \n",
       "43  37.772963  3.394070  \n",
       "46  38.071422  5.682688  \n",
       "59  21.567146  4.173977  \n",
       "61  35.581092  2.983411  \n",
       "63  51.123387  4.174410  "
      ]
     },
     "execution_count": 14,
     "metadata": {},
     "output_type": "execute_result"
    }
   ],
   "source": [
    "df[df['experiment'] == 'FM135']"
   ]
  },
  {
   "cell_type": "markdown",
   "metadata": {},
   "source": [
    "## Display the available number of cap-RT pairs"
   ]
  },
  {
   "cell_type": "code",
   "execution_count": 4,
   "metadata": {},
   "outputs": [
    {
     "name": "stdout",
     "output_type": "stream",
     "text": [
      "train\n"
     ]
    },
    {
     "data": {
      "image/png": "[encoded data removed]",
      "text/plain": [
       "<Figure size 200x200 with 1 Axes>"
      ]
     },
     "metadata": {},
     "output_type": "display_data"
    },
    {
     "name": "stdout",
     "output_type": "stream",
     "text": [
      "val (FM135)\n"
     ]
    },
    {
     "data": {
      "image/png": "[encoded data removed]",
      "text/plain": [
       "<Figure size 200x200 with 1 Axes>"
      ]
     },
     "metadata": {},
     "output_type": "display_data"
    },
    {
     "name": "stdout",
     "output_type": "stream",
     "text": [
      "test (FM155)\n"
     ]
    },
    {
     "data": {
      "image/png": "[encoded data removed]",
      "text/plain": [
       "<Figure size 200x200 with 1 Axes>"
      ]
     },
     "metadata": {},
     "output_type": "display_data"
    }
   ],
   "source": [
    "for df in [df_train, df_val, df_test]:\n",
    "    print(df.attrs['name'])\n",
    "    pair_counts = df.groupby(['RT name', 'cap']).size().unstack(fill_value=0)\n",
    "    plt.figure(figsize=(2, 2))\n",
    "    sns.heatmap(pair_counts, annot=True, fmt='d', cmap='YlOrRd', cbar=False)\n",
    "    plt.title('Number of cap-RT pairs')\n",
    "    plt.show()"
   ]
  },
  {
   "cell_type": "markdown",
   "metadata": {},
   "source": [
    "## Make predictions for validation data (FM135) and for testing data (FM155) using the rest of the data as reference"
   ]
  },
  {
   "cell_type": "code",
   "execution_count": 5,
   "metadata": {},
   "outputs": [
    {
     "name": "stdout",
     "output_type": "stream",
     "text": [
      "Validation accuracy: 1.00\n",
      "True: AP4A     Predicted: AP4A\n",
      "True: M7GP3A   Predicted: M7GP3A\n",
      "True: NAD      Predicted: NAD\n",
      "\n",
      "Test accuracy: 1.00\n",
      "True: AP4A     Predicted: AP4A\n",
      "True: M7GP3A   Predicted: M7GP3A\n",
      "True: NAD      Predicted: NAD\n",
      "True: TMG      Predicted: TMG\n"
     ]
    }
   ],
   "source": [
    "# Get unique RT names from all datasets\n",
    "all_rt_names = df_train['RT name'].unique()\n",
    "all_caps = ['AP4A', 'M7GP3A', 'TMG', 'NAD']\n",
    "\n",
    "# Function to create feature vector for each sample\n",
    "def create_features(df):\n",
    "    features = []\n",
    "    labels = []\n",
    "    \n",
    "    # Group by cap type\n",
    "    for cap_type, cap_group in df.groupby('cap'):\n",
    "        # Initialize feature vector with zeros\n",
    "        feature_vec = np.zeros(len(all_rt_names) * len(all_caps))\n",
    "\n",
    "        # For each RT in this cap group, add its ACGT percentages\n",
    "        for _, row in cap_group.iterrows():\n",
    "            rt_idx = np.where(all_rt_names == row['RT name'])[0][0]\n",
    "            base_idx = rt_idx * len(all_caps)\n",
    "            feature_vec[base_idx:base_idx+len(all_caps)] = row[['A%', 'C%', 'G%', 'T%']]\n",
    "        \n",
    "        features.append(feature_vec)\n",
    "        labels.append(cap_type)\n",
    "\n",
    "    return np.array(features), np.array(labels)\n",
    "\n",
    "# Create features and labels for each dataset\n",
    "X_train, y_train = create_features(df_train)\n",
    "X_val, y_val = create_features(df_val) \n",
    "X_test, y_test = create_features(df_test)\n",
    "\n",
    "# Predict using 1-NN with cosine similarity and masked training set depending on the RTs present in the test sample\n",
    "def predict(X_test_sample, X_train, y_train):\n",
    "    knn = KNeighborsClassifier(n_neighbors=1, metric='cosine')\n",
    "    mask = X_test_sample != 0\n",
    "    X_train_masked = X_train.copy()\n",
    "    X_train_masked[:, ~mask] = 0  # Use only training RTs that are present in the test sample\n",
    "    knn.fit(X_train_masked[:, mask], y_train)\n",
    "    return knn.predict(X_test_sample[mask].reshape(1, -1))[0]\n",
    "\n",
    "# Make predictions\n",
    "val_predictions = [predict(x, X_train, y_train) for x in X_val]\n",
    "test_predictions = [predict(x, X_train, y_train) for x in X_test]\n",
    "\n",
    "# Calculate accuracies\n",
    "val_accuracy = (np.array(val_predictions) == y_val).mean()\n",
    "print(f\"Validation accuracy: {val_accuracy:.2f}\")\n",
    "for true, pred in zip(y_val, val_predictions):\n",
    "    print(f\"True: {true:8} Predicted: {pred}\")\n",
    "test_accuracy = (np.array(test_predictions) == y_test).mean()\n",
    "print(f\"\\nTest accuracy: {test_accuracy:.2f}\")\n",
    "for true, pred in zip(y_test, test_predictions):\n",
    "    print(f\"True: {true:8} Predicted: {pred}\")"
   ]
  }
 ],
 "metadata": {
  "kernelspec": {
   "display_name": "RNA",
   "language": "python",
   "name": "python3"
  },
  "language_info": {
   "codemirror_mode": {
    "name": "ipython",
    "version": 3
   },
   "file_extension": ".py",
   "mimetype": "text/x-python",
   "name": "python",
   "nbconvert_exporter": "python",
   "pygments_lexer": "ipython3",
   "version": "3.11.0"
  }
 },
 "nbformat": 4,
 "nbformat_minor": 2
}
